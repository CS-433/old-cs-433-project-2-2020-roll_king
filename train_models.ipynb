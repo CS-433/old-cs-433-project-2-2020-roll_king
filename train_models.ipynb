{
  "nbformat": 4,
  "nbformat_minor": 0,
  "metadata": {
    "colab": {
      "name": "train_models.ipynb",
      "provenance": [],
      "collapsed_sections": []
    },
    "kernelspec": {
      "name": "python3",
      "display_name": "Python 3"
    },
    "language_info": {
      "name": "python"
    }
  },
  "cells": [
    {
      "cell_type": "code",
      "execution_count": 8,
      "metadata": {
        "colab": {
          "base_uri": "https://localhost:8080/"
        },
        "id": "me5HrTfminJ0",
        "outputId": "f3d0aef6-2388-4155-fcce-92799e6a645f"
      },
      "outputs": [
        {
          "output_type": "stream",
          "name": "stdout",
          "text": [
            "Collecting Sentencepiece\n",
            "  Downloading sentencepiece-0.1.96-cp37-cp37m-manylinux_2_17_x86_64.manylinux2014_x86_64.whl (1.2 MB)\n",
            "\u001b[?25l\r\u001b[K     |▎                               | 10 kB 19.4 MB/s eta 0:00:01\r\u001b[K     |▌                               | 20 kB 26.5 MB/s eta 0:00:01\r\u001b[K     |▉                               | 30 kB 22.9 MB/s eta 0:00:01\r\u001b[K     |█                               | 40 kB 16.7 MB/s eta 0:00:01\r\u001b[K     |█▍                              | 51 kB 5.7 MB/s eta 0:00:01\r\u001b[K     |█▋                              | 61 kB 6.2 MB/s eta 0:00:01\r\u001b[K     |██                              | 71 kB 5.6 MB/s eta 0:00:01\r\u001b[K     |██▏                             | 81 kB 6.3 MB/s eta 0:00:01\r\u001b[K     |██▍                             | 92 kB 6.2 MB/s eta 0:00:01\r\u001b[K     |██▊                             | 102 kB 5.4 MB/s eta 0:00:01\r\u001b[K     |███                             | 112 kB 5.4 MB/s eta 0:00:01\r\u001b[K     |███▎                            | 122 kB 5.4 MB/s eta 0:00:01\r\u001b[K     |███▌                            | 133 kB 5.4 MB/s eta 0:00:01\r\u001b[K     |███▉                            | 143 kB 5.4 MB/s eta 0:00:01\r\u001b[K     |████                            | 153 kB 5.4 MB/s eta 0:00:01\r\u001b[K     |████▎                           | 163 kB 5.4 MB/s eta 0:00:01\r\u001b[K     |████▋                           | 174 kB 5.4 MB/s eta 0:00:01\r\u001b[K     |████▉                           | 184 kB 5.4 MB/s eta 0:00:01\r\u001b[K     |█████▏                          | 194 kB 5.4 MB/s eta 0:00:01\r\u001b[K     |█████▍                          | 204 kB 5.4 MB/s eta 0:00:01\r\u001b[K     |█████▊                          | 215 kB 5.4 MB/s eta 0:00:01\r\u001b[K     |██████                          | 225 kB 5.4 MB/s eta 0:00:01\r\u001b[K     |██████▏                         | 235 kB 5.4 MB/s eta 0:00:01\r\u001b[K     |██████▌                         | 245 kB 5.4 MB/s eta 0:00:01\r\u001b[K     |██████▊                         | 256 kB 5.4 MB/s eta 0:00:01\r\u001b[K     |███████                         | 266 kB 5.4 MB/s eta 0:00:01\r\u001b[K     |███████▎                        | 276 kB 5.4 MB/s eta 0:00:01\r\u001b[K     |███████▋                        | 286 kB 5.4 MB/s eta 0:00:01\r\u001b[K     |███████▉                        | 296 kB 5.4 MB/s eta 0:00:01\r\u001b[K     |████████                        | 307 kB 5.4 MB/s eta 0:00:01\r\u001b[K     |████████▍                       | 317 kB 5.4 MB/s eta 0:00:01\r\u001b[K     |████████▋                       | 327 kB 5.4 MB/s eta 0:00:01\r\u001b[K     |█████████                       | 337 kB 5.4 MB/s eta 0:00:01\r\u001b[K     |█████████▏                      | 348 kB 5.4 MB/s eta 0:00:01\r\u001b[K     |█████████▌                      | 358 kB 5.4 MB/s eta 0:00:01\r\u001b[K     |█████████▊                      | 368 kB 5.4 MB/s eta 0:00:01\r\u001b[K     |██████████                      | 378 kB 5.4 MB/s eta 0:00:01\r\u001b[K     |██████████▎                     | 389 kB 5.4 MB/s eta 0:00:01\r\u001b[K     |██████████▌                     | 399 kB 5.4 MB/s eta 0:00:01\r\u001b[K     |██████████▉                     | 409 kB 5.4 MB/s eta 0:00:01\r\u001b[K     |███████████                     | 419 kB 5.4 MB/s eta 0:00:01\r\u001b[K     |███████████▍                    | 430 kB 5.4 MB/s eta 0:00:01\r\u001b[K     |███████████▋                    | 440 kB 5.4 MB/s eta 0:00:01\r\u001b[K     |███████████▉                    | 450 kB 5.4 MB/s eta 0:00:01\r\u001b[K     |████████████▏                   | 460 kB 5.4 MB/s eta 0:00:01\r\u001b[K     |████████████▍                   | 471 kB 5.4 MB/s eta 0:00:01\r\u001b[K     |████████████▊                   | 481 kB 5.4 MB/s eta 0:00:01\r\u001b[K     |█████████████                   | 491 kB 5.4 MB/s eta 0:00:01\r\u001b[K     |█████████████▎                  | 501 kB 5.4 MB/s eta 0:00:01\r\u001b[K     |█████████████▌                  | 512 kB 5.4 MB/s eta 0:00:01\r\u001b[K     |█████████████▊                  | 522 kB 5.4 MB/s eta 0:00:01\r\u001b[K     |██████████████                  | 532 kB 5.4 MB/s eta 0:00:01\r\u001b[K     |██████████████▎                 | 542 kB 5.4 MB/s eta 0:00:01\r\u001b[K     |██████████████▋                 | 552 kB 5.4 MB/s eta 0:00:01\r\u001b[K     |██████████████▉                 | 563 kB 5.4 MB/s eta 0:00:01\r\u001b[K     |███████████████▏                | 573 kB 5.4 MB/s eta 0:00:01\r\u001b[K     |███████████████▍                | 583 kB 5.4 MB/s eta 0:00:01\r\u001b[K     |███████████████▋                | 593 kB 5.4 MB/s eta 0:00:01\r\u001b[K     |████████████████                | 604 kB 5.4 MB/s eta 0:00:01\r\u001b[K     |████████████████▏               | 614 kB 5.4 MB/s eta 0:00:01\r\u001b[K     |████████████████▌               | 624 kB 5.4 MB/s eta 0:00:01\r\u001b[K     |████████████████▊               | 634 kB 5.4 MB/s eta 0:00:01\r\u001b[K     |█████████████████               | 645 kB 5.4 MB/s eta 0:00:01\r\u001b[K     |█████████████████▎              | 655 kB 5.4 MB/s eta 0:00:01\r\u001b[K     |█████████████████▌              | 665 kB 5.4 MB/s eta 0:00:01\r\u001b[K     |█████████████████▉              | 675 kB 5.4 MB/s eta 0:00:01\r\u001b[K     |██████████████████              | 686 kB 5.4 MB/s eta 0:00:01\r\u001b[K     |██████████████████▍             | 696 kB 5.4 MB/s eta 0:00:01\r\u001b[K     |██████████████████▋             | 706 kB 5.4 MB/s eta 0:00:01\r\u001b[K     |███████████████████             | 716 kB 5.4 MB/s eta 0:00:01\r\u001b[K     |███████████████████▏            | 727 kB 5.4 MB/s eta 0:00:01\r\u001b[K     |███████████████████▍            | 737 kB 5.4 MB/s eta 0:00:01\r\u001b[K     |███████████████████▊            | 747 kB 5.4 MB/s eta 0:00:01\r\u001b[K     |████████████████████            | 757 kB 5.4 MB/s eta 0:00:01\r\u001b[K     |████████████████████▎           | 768 kB 5.4 MB/s eta 0:00:01\r\u001b[K     |████████████████████▌           | 778 kB 5.4 MB/s eta 0:00:01\r\u001b[K     |████████████████████▉           | 788 kB 5.4 MB/s eta 0:00:01\r\u001b[K     |█████████████████████           | 798 kB 5.4 MB/s eta 0:00:01\r\u001b[K     |█████████████████████▎          | 808 kB 5.4 MB/s eta 0:00:01\r\u001b[K     |█████████████████████▋          | 819 kB 5.4 MB/s eta 0:00:01\r\u001b[K     |█████████████████████▉          | 829 kB 5.4 MB/s eta 0:00:01\r\u001b[K     |██████████████████████▏         | 839 kB 5.4 MB/s eta 0:00:01\r\u001b[K     |██████████████████████▍         | 849 kB 5.4 MB/s eta 0:00:01\r\u001b[K     |██████████████████████▊         | 860 kB 5.4 MB/s eta 0:00:01\r\u001b[K     |███████████████████████         | 870 kB 5.4 MB/s eta 0:00:01\r\u001b[K     |███████████████████████▏        | 880 kB 5.4 MB/s eta 0:00:01\r\u001b[K     |███████████████████████▌        | 890 kB 5.4 MB/s eta 0:00:01\r\u001b[K     |███████████████████████▊        | 901 kB 5.4 MB/s eta 0:00:01\r\u001b[K     |████████████████████████        | 911 kB 5.4 MB/s eta 0:00:01\r\u001b[K     |████████████████████████▎       | 921 kB 5.4 MB/s eta 0:00:01\r\u001b[K     |████████████████████████▋       | 931 kB 5.4 MB/s eta 0:00:01\r\u001b[K     |████████████████████████▉       | 942 kB 5.4 MB/s eta 0:00:01\r\u001b[K     |█████████████████████████       | 952 kB 5.4 MB/s eta 0:00:01\r\u001b[K     |█████████████████████████▍      | 962 kB 5.4 MB/s eta 0:00:01\r\u001b[K     |█████████████████████████▋      | 972 kB 5.4 MB/s eta 0:00:01\r\u001b[K     |██████████████████████████      | 983 kB 5.4 MB/s eta 0:00:01\r\u001b[K     |██████████████████████████▏     | 993 kB 5.4 MB/s eta 0:00:01\r\u001b[K     |██████████████████████████▌     | 1.0 MB 5.4 MB/s eta 0:00:01\r\u001b[K     |██████████████████████████▊     | 1.0 MB 5.4 MB/s eta 0:00:01\r\u001b[K     |███████████████████████████     | 1.0 MB 5.4 MB/s eta 0:00:01\r\u001b[K     |███████████████████████████▎    | 1.0 MB 5.4 MB/s eta 0:00:01\r\u001b[K     |███████████████████████████▌    | 1.0 MB 5.4 MB/s eta 0:00:01\r\u001b[K     |███████████████████████████▉    | 1.1 MB 5.4 MB/s eta 0:00:01\r\u001b[K     |████████████████████████████    | 1.1 MB 5.4 MB/s eta 0:00:01\r\u001b[K     |████████████████████████████▍   | 1.1 MB 5.4 MB/s eta 0:00:01\r\u001b[K     |████████████████████████████▋   | 1.1 MB 5.4 MB/s eta 0:00:01\r\u001b[K     |████████████████████████████▉   | 1.1 MB 5.4 MB/s eta 0:00:01\r\u001b[K     |█████████████████████████████▏  | 1.1 MB 5.4 MB/s eta 0:00:01\r\u001b[K     |█████████████████████████████▍  | 1.1 MB 5.4 MB/s eta 0:00:01\r\u001b[K     |█████████████████████████████▊  | 1.1 MB 5.4 MB/s eta 0:00:01\r\u001b[K     |██████████████████████████████  | 1.1 MB 5.4 MB/s eta 0:00:01\r\u001b[K     |██████████████████████████████▎ | 1.1 MB 5.4 MB/s eta 0:00:01\r\u001b[K     |██████████████████████████████▌ | 1.2 MB 5.4 MB/s eta 0:00:01\r\u001b[K     |██████████████████████████████▊ | 1.2 MB 5.4 MB/s eta 0:00:01\r\u001b[K     |███████████████████████████████ | 1.2 MB 5.4 MB/s eta 0:00:01\r\u001b[K     |███████████████████████████████▎| 1.2 MB 5.4 MB/s eta 0:00:01\r\u001b[K     |███████████████████████████████▋| 1.2 MB 5.4 MB/s eta 0:00:01\r\u001b[K     |███████████████████████████████▉| 1.2 MB 5.4 MB/s eta 0:00:01\r\u001b[K     |████████████████████████████████| 1.2 MB 5.4 MB/s \n",
            "\u001b[?25hInstalling collected packages: Sentencepiece\n",
            "Successfully installed Sentencepiece-0.1.96\n",
            "Collecting transformers\n",
            "  Downloading transformers-4.14.1-py3-none-any.whl (3.4 MB)\n",
            "\u001b[K     |████████████████████████████████| 3.4 MB 5.2 MB/s \n",
            "\u001b[?25hRequirement already satisfied: tqdm>=4.27 in /usr/local/lib/python3.7/dist-packages (from transformers) (4.62.3)\n",
            "Requirement already satisfied: numpy>=1.17 in /usr/local/lib/python3.7/dist-packages (from transformers) (1.19.5)\n",
            "Collecting huggingface-hub<1.0,>=0.1.0\n",
            "  Downloading huggingface_hub-0.2.1-py3-none-any.whl (61 kB)\n",
            "\u001b[K     |████████████████████████████████| 61 kB 476 kB/s \n",
            "\u001b[?25hCollecting sacremoses\n",
            "  Downloading sacremoses-0.0.46-py3-none-any.whl (895 kB)\n",
            "\u001b[K     |████████████████████████████████| 895 kB 47.4 MB/s \n",
            "\u001b[?25hRequirement already satisfied: filelock in /usr/local/lib/python3.7/dist-packages (from transformers) (3.4.0)\n",
            "Collecting tokenizers<0.11,>=0.10.1\n",
            "  Downloading tokenizers-0.10.3-cp37-cp37m-manylinux_2_5_x86_64.manylinux1_x86_64.manylinux_2_12_x86_64.manylinux2010_x86_64.whl (3.3 MB)\n",
            "\u001b[K     |████████████████████████████████| 3.3 MB 17.5 MB/s \n",
            "\u001b[?25hRequirement already satisfied: regex!=2019.12.17 in /usr/local/lib/python3.7/dist-packages (from transformers) (2019.12.20)\n",
            "Requirement already satisfied: packaging>=20.0 in /usr/local/lib/python3.7/dist-packages (from transformers) (21.3)\n",
            "Requirement already satisfied: requests in /usr/local/lib/python3.7/dist-packages (from transformers) (2.23.0)\n",
            "Collecting pyyaml>=5.1\n",
            "  Downloading PyYAML-6.0-cp37-cp37m-manylinux_2_5_x86_64.manylinux1_x86_64.manylinux_2_12_x86_64.manylinux2010_x86_64.whl (596 kB)\n",
            "\u001b[K     |████████████████████████████████| 596 kB 45.1 MB/s \n",
            "\u001b[?25hRequirement already satisfied: importlib-metadata in /usr/local/lib/python3.7/dist-packages (from transformers) (4.8.2)\n",
            "Requirement already satisfied: typing-extensions>=3.7.4.3 in /usr/local/lib/python3.7/dist-packages (from huggingface-hub<1.0,>=0.1.0->transformers) (3.10.0.2)\n",
            "Requirement already satisfied: pyparsing!=3.0.5,>=2.0.2 in /usr/local/lib/python3.7/dist-packages (from packaging>=20.0->transformers) (3.0.6)\n",
            "Requirement already satisfied: zipp>=0.5 in /usr/local/lib/python3.7/dist-packages (from importlib-metadata->transformers) (3.6.0)\n",
            "Requirement already satisfied: chardet<4,>=3.0.2 in /usr/local/lib/python3.7/dist-packages (from requests->transformers) (3.0.4)\n",
            "Requirement already satisfied: certifi>=2017.4.17 in /usr/local/lib/python3.7/dist-packages (from requests->transformers) (2021.10.8)\n",
            "Requirement already satisfied: idna<3,>=2.5 in /usr/local/lib/python3.7/dist-packages (from requests->transformers) (2.10)\n",
            "Requirement already satisfied: urllib3!=1.25.0,!=1.25.1,<1.26,>=1.21.1 in /usr/local/lib/python3.7/dist-packages (from requests->transformers) (1.24.3)\n",
            "Requirement already satisfied: joblib in /usr/local/lib/python3.7/dist-packages (from sacremoses->transformers) (1.1.0)\n",
            "Requirement already satisfied: six in /usr/local/lib/python3.7/dist-packages (from sacremoses->transformers) (1.15.0)\n",
            "Requirement already satisfied: click in /usr/local/lib/python3.7/dist-packages (from sacremoses->transformers) (7.1.2)\n",
            "Installing collected packages: pyyaml, tokenizers, sacremoses, huggingface-hub, transformers\n",
            "  Attempting uninstall: pyyaml\n",
            "    Found existing installation: PyYAML 3.13\n",
            "    Uninstalling PyYAML-3.13:\n",
            "      Successfully uninstalled PyYAML-3.13\n",
            "Successfully installed huggingface-hub-0.2.1 pyyaml-6.0 sacremoses-0.0.46 tokenizers-0.10.3 transformers-4.14.1\n"
          ]
        }
      ],
      "source": [
        "!pip install Sentencepiece\n",
        "!pip install transformers"
      ]
    },
    {
      "cell_type": "code",
      "source": [
        "import torch\n",
        "import torch.nn as nn\n",
        "import torch.nn.functional as F\n",
        "import numpy as np\n",
        "import pandas as pd\n",
        "import matplotlib.pyplot as plt\n",
        "from transformers import BertTokenizer, BigBirdTokenizer\n",
        "from transformers import BertForSequenceClassification, AdamW, BertConfig, BigBirdForSequenceClassification, GPT2Tokenizer, GPTNeoForSequenceClassification\n",
        "from transformers import get_linear_schedule_with_warmup\n",
        "from torch.utils.data import TensorDataset, random_split\n",
        "from torch.utils.data import DataLoader, RandomSampler, SequentialSampler\n",
        "import nltk"
      ],
      "metadata": {
        "id": "rN38mJAQzu6i"
      },
      "execution_count": 9,
      "outputs": []
    },
    {
      "cell_type": "code",
      "source": [
        "from google.colab import drive\n",
        "drive._mount('/content/drive')"
      ],
      "metadata": {
        "colab": {
          "base_uri": "https://localhost:8080/"
        },
        "id": "Zk2_6Vg30-PC",
        "outputId": "12e1efb0-43fc-46a7-8a25-ac2c6ea55e3d"
      },
      "execution_count": 11,
      "outputs": [
        {
          "output_type": "stream",
          "name": "stdout",
          "text": [
            "Mounted at /content/drive\n"
          ]
        }
      ]
    },
    {
      "cell_type": "code",
      "source": [
        "import os\n",
        "os.chdir('drive/MyDrive/machine_learning')"
      ],
      "metadata": {
        "id": "jrZnQzOl2u9b"
      },
      "execution_count": 12,
      "outputs": []
    },
    {
      "cell_type": "code",
      "source": [
        "# # load dataset\n",
        "\n",
        "data_train = pd.read_csv('dataset_binary_train.csv')\n",
        "data_test = pd.read_csv('dataset_binary_test.csv')\n",
        "\n",
        "X_train, y_train = data_train.data.tolist(), data_train.label.tolist()\n",
        "X_test, y_test = data_test.data.tolist(), data_test.label.tolist()\n",
        "\n",
        "print('Train dataset length: {}'.format(len(X_train)))\n",
        "print('Test dataset length: {}'.format(len(X_test)))"
      ],
      "metadata": {
        "colab": {
          "base_uri": "https://localhost:8080/"
        },
        "id": "QcrN3SYzizGF",
        "outputId": "c6c46d49-91c6-44a4-85f9-2ea08d624f5a"
      },
      "execution_count": 13,
      "outputs": [
        {
          "output_type": "stream",
          "name": "stdout",
          "text": [
            "Train dataset length: 1765172\n",
            "Test dataset length: 217923\n"
          ]
        }
      ]
    },
    {
      "cell_type": "code",
      "source": [
        "class textCNN(nn.Module):\n",
        "    def __init__(self, inplane=1, input_dim=768, num_conv=3, conv_size=[2,3,4], dropout_prob=0, dim_output=2):\n",
        "        super(textCNN, self).__init__()\n",
        "        \n",
        "        D_words = input_dim # dimension of word embedding\n",
        "        self.convs = nn.ModuleList([nn.Conv2d(inplane,num_conv,(K,input_dim)) for K in conv_size]) ## list of convolutional layers\n",
        "        self.dropout = nn.Dropout(dropout_prob) \n",
        "        self.fc = nn.Linear(len(conv_size)*num_conv, dim_output) \n",
        "        \n",
        "    def forward(self,x):\n",
        "        #x.size = (batch_size, sequence_length, word_embedding)\n",
        "        \n",
        "        x = x.unsqueeze(1) #(N,C,W,D) (C=1)\n",
        "        x = [F.relu(conv(x)).squeeze(3) for conv in self.convs] # len(conv_size)*(N,num_conv,W)\n",
        "        x = [F.max_pool1d(line,line.size(2)).squeeze(2) for line in x]  # len(conv_size)*(N,num_conv)\n",
        "        \n",
        "        x = torch.cat(x,1) #(N,num_conv*len(conv_size))\n",
        "        x = self.dropout(x)\n",
        "        logit = self.fc(x)\n",
        "        return logit"
      ],
      "metadata": {
        "id": "hjt0NN39izIT"
      },
      "execution_count": 14,
      "outputs": []
    },
    {
      "cell_type": "code",
      "source": [
        "class LSTM_attention(nn.Module):\n",
        "    def __init__(self, input_dim=768, hidden_size=256, num_layers=1, dim_output=2, bi_directional=True):\n",
        "        super(LSTM_attention, self).__init__()\n",
        "        \n",
        "        self.lstm = nn.LSTM(input_size=input_dim, hidden_size=hidden_size, num_layers=num_layers, bidirectional=bi_directional, bias=True)\n",
        "        self.fc = nn.Linear((int(bi_directional)+1) * hidden_size, dim_output)\n",
        "\n",
        "    def attention_layer(self,lstm_output, final_state):\n",
        "        # lstm_output : [batch_size, n_step, n_hidden * num_directions(=2)], F matrix\n",
        "        # final_state : [num_layers(=1) * num_directions(=2), batch_size, n_hidden]\n",
        "\n",
        "        batch_size = len(lstm_output)\n",
        "        hidden = torch.cat((final_state[0], final_state[1]), dim=1).unsqueeze(2)\n",
        "        # hidden : [batch_size, n_hidden * num_directions(=2), n_layer(=1)]\n",
        "        attn_weights = torch.bmm(lstm_output, hidden).squeeze(2)\n",
        "        # attn_weights : [batch_size, n_step]\n",
        "        soft_attn_weights = F.softmax(attn_weights,1)\n",
        "\n",
        "        # context: [batch_size, n_hidden * num_directions(=2)]\n",
        "        context = torch.bmm(lstm_output.transpose(1,2),soft_attn_weights.unsqueeze(2)).squeeze(2)\n",
        "\n",
        "        return context, soft_attn_weights\n",
        "\n",
        "    def forward(self, inputs):\n",
        "        output, (final_hidden_state, final_cell_state) = self.lstm(inputs.permute(1, 0, 2))\n",
        "        atten_output, attention = self.attention_layer(output.permute(1, 0, 2), final_hidden_state)\n",
        "        output = self.fc(atten_output)\n",
        "        \n",
        "        return output"
      ],
      "metadata": {
        "id": "06rLWHlYizKy"
      },
      "execution_count": 15,
      "outputs": []
    },
    {
      "cell_type": "code",
      "source": [
        "class Transformer:\n",
        "  def __init__(self, model_name, config_path, **kwargs):\n",
        "    super(Transformer, self).__init__()\n",
        "    \n",
        "    if model_name == 'BERT':\n",
        "      self.model = BertForSequenceClassification.from_pretrained(\"bert-base-uncased\", num_labels = 2, output_attentions = False, output_hidden_states = True)\n",
        "      self.tokenizer = BertTokenizer.from_pretrained('bert-base-uncased', do_lower_case=True)\n",
        "    elif model_name == 'GPT2':\n",
        "      self.model = GPT2ForSequenceClassification.from_pretrained('gpt2', num_labels = 2, output_attentions = False, output_hidden_states = True)\n",
        "      self.model.config.pad_token_id = self.model.config.eos_token_id\n",
        "      self.tokenizer = GPT2Tokenizer.from_pretrained('gpt2', do_lower_case=True)\n",
        "      self.tokenizer.pad_token = self.tokenizer.eos_token \n",
        "    elif model_name == 'BIGBIRD':\n",
        "      self.model = BigBirdForSequenceClassification.from_pretrained('google/bigbird-roberta-base', num_labels = 2, output_attentions = False, output_hidden_states = True)\n",
        "      self.tokenizer = BigBirdTokenizer.from_pretrained('google/bigbird-roberta-base', do_lower_case=True)\n",
        "\n",
        "  def preprocess_data(self, X_train, X_test, y_train, y_test):\n",
        "\n",
        "    for mode in ['train', 'test']:\n",
        "\n",
        "      sample_ids = []\n",
        "      attention_masks = []\n",
        "      \n",
        "      samples = X_train if mode == 'train' else X_test\n",
        "      labels = y_train if mode == 'train' else y_test\n",
        "      length = len(samples)\n",
        "      \n",
        "      for i, sent in enumerate(samples):\n",
        "          encoded_dict = self.tokenizer.encode_plus(sent, add_special_tokens = True, max_length = 100, truncation = True, \\\n",
        "                                              padding = 'max_length', return_attention_mask = True, return_tensors = 'pt')\n",
        "\n",
        "          # Add the encoded sample and mask \n",
        "          sample_ids.append(encoded_dict['input_ids'])\n",
        "          attention_masks.append(encoded_dict['attention_mask'])\n",
        "          print('\\r----- Processing {}/{} {} samples'.format(i+1, length, mode), flush=True, end='')\n",
        "\n",
        "      # Convert to pytorch tensors.\n",
        "      sample_ids = torch.cat(sample_ids, dim=0)\n",
        "      attention_masks = torch.cat(attention_masks, dim=0)\n",
        "      labels = torch.tensor(labels)\n",
        "      \n",
        "      if mode == 'train': train_dataset = TensorDataset(sample_ids, attention_masks, labels)\n",
        "      else: test_dataset = TensorDataset(sample_ids, attention_masks, labels)\n",
        "      \n",
        "      return train_dataset, test_dataset   \n",
        "  \n",
        "  \n",
        "        "
      ],
      "metadata": {
        "id": "lYKilIifizM-"
      },
      "execution_count": 16,
      "outputs": []
    },
    {
      "cell_type": "code",
      "source": [
        "def train_val(train_dataset, test_dataset, transformer_name, transformer, classifier_name=None, classifier=None, lr_transformer=3e-5, lr_classifier=1e-3, batch_size=64, max_epoch=5):\n",
        "    # create dataloader for tensor dataset\n",
        "    train_dataloader = DataLoader(train_dataset, sampler = RandomSampler(train_dataset), batch_size = batch_size)\n",
        "    val_dataloader = DataLoader(test_dataset, sampler = SequentialSampler(test_dataset), batch_size = batch_size)\n",
        "    \n",
        "    # define device\n",
        "    device = 'cuda' if torch.cuda.is_available() else 'cpu'\n",
        "    \n",
        "    # define models\n",
        "    if classifier is not None:\n",
        "      classifier = classifier.to(device)\n",
        "      optimizer = torch.optim.Adam([\n",
        "            {\"params\": transformer.parameters(), 'lr': lr_transformer},\n",
        "            {\"params\": classifier.parameters(), 'lr': lr_classifier}])\n",
        "      for p in transformer.parameters(): # freeze the layers of transformer\n",
        "        p.requires_grad = False\n",
        "    else:\n",
        "      optimizer = torch.optim.Adam(transformer.parameters(), lr = lr_transformer) # the learning rate is suggested by the authors\n",
        "      \n",
        "      for p in transformer.parameters():\n",
        "        p.requires_grad = True\n",
        "\n",
        "    transformer = transformer.to(device)\n",
        "    \n",
        "    # Hyper-parameters\n",
        "    max_epoch = 5\n",
        "    n_batch = int(len(train_dataset)/batch_size)\n",
        "    scheduler = get_linear_schedule_with_warmup(optimizer, num_warmup_steps = 0, num_training_steps = len(train_dataloader) * max_epoch)\n",
        "    criterion = F.cross_entropy\n",
        "    \n",
        "    # clean memory in GPU\n",
        "    torch.cuda.empty_cache()\n",
        "    \n",
        "    # a list to record the state of training\n",
        "    training_stats = []\n",
        "\n",
        "\n",
        "            \n",
        "    print('Training start!')\n",
        "    for e in range(max_epoch):\n",
        "        \n",
        "        # train model\n",
        "        #model.train()\n",
        "        if classifier is not None:\n",
        "          classifier.train()\n",
        "        else:\n",
        "          transformer.train()\n",
        "        \n",
        "        epoch_loss = 0\n",
        "        train_acc = 0\n",
        "        \n",
        "        for b, (x_id, x_mask, y) in enumerate(train_dataloader):\n",
        "            x_id, x_mask, y = x_id.to(device), x_mask.to(device), y.to(device)\n",
        "            \n",
        "            optimizer.zero_grad()\n",
        "            \n",
        "            if classifier is not None:\n",
        "              with torch.no_grad():\n",
        "                word_embedding = transformer(x_id, token_type_ids=None, attention_mask=x_mask, labels=y)['hidden_states'][-1]   \n",
        "              logits = classifier(word_embedding)\n",
        "              loss = criterion(logits, y)\n",
        "            else:\n",
        "              outputs = transformer(x_id, token_type_ids=None, attention_mask=x_mask, labels=y)\n",
        "              loss, logits = outputs['loss'], outputs['logits']\n",
        "\n",
        "\n",
        "            epoch_loss += loss\n",
        "            train_acc += (logits.max(1)[1] == y).float().mean().item()\n",
        "            \n",
        "            loss.backward()\n",
        "            \n",
        "            #clip gradient\n",
        "            if classifier is None:\n",
        "              torch.nn.utils.clip_grad_norm_(transformer.parameters(), 1.0)\n",
        "\n",
        "            optimizer.step()\n",
        "            scheduler.step()\n",
        "\n",
        "            print(\"\\rEpoch: {:d} batch: {:d} / {} loss: {:.4f} | {:.2%}\".format(e + 1, b, n_batch, loss, b*1.0/n_batch), end='', flush=True)\n",
        "        print(\"\\n----- Epoch {} ------\\nTraining loss: {}\".format(e+1, epoch_loss / len(train_dataloader)))\n",
        "        print(\"Training accuracy: {}\".format(train_acc / len(train_dataloader)))\n",
        "\n",
        "        \n",
        "        # evaluate model\n",
        "        if classifier is not None:\n",
        "          classifier.eval()\n",
        "        transformer.eval()\n",
        "        \n",
        "        eval_acc = 0\n",
        "        eval_loss = 0\n",
        "        nb_eval_steps = 0\n",
        "        \n",
        "        for b, (x_id, x_mask, y) in enumerate(val_dataloader):\n",
        "            x_id, x_mask, y = x_id.to(device), x_mask.to(device), y.to(device)\n",
        "            \n",
        "            with torch.no_grad():\n",
        "                if classifier is not None:\n",
        "                  word_embedding = transformer(x_id, token_type_ids=None, attention_mask=x_mask, labels=y)['hidden_states'][-1]   \n",
        "                  logits = classifier(word_embedding)\n",
        "                  loss = criterion(logits, y)\n",
        "                else:\n",
        "                  outputs = transformer(x_id, token_type_ids=None, attention_mask=x_mask, labels=y)\n",
        "                  loss, logits = outputs['loss'], outputs['logits']\n",
        "            \n",
        "            eval_loss += loss\n",
        "            eval_acc += (logits.max(1)[1] == y).float().mean().item()\n",
        "\n",
        "        print(\"Validation loss: {}\".format(eval_loss / len(val_dataloader)))\n",
        "        print(\"Validation accuracy: {}\".format(eval_acc / len(val_dataloader)))\n",
        "        print(\"\\n\")\n",
        "        \n",
        "        training_stats.append(\n",
        "            {\n",
        "                'epoch': e+1,\n",
        "                'train_loss': epoch_loss / len(train_dataloader),\n",
        "                'train_acc': train_acc / len(train_dataloader),\n",
        "                'val_loss': eval_loss / len(val_dataloader),\n",
        "                'val_acc': eval_acc / len(val_dataloader),\n",
        "            }\n",
        "        )\n",
        "\n",
        "        # save models\n",
        "        if classifier is not None:\n",
        "          torch.save(classifier, '{}-{}.pkl'.format(transformer_name, classifier_name))\n",
        "        else:\n",
        "          torch.save(transformer, '{}.pkl'.format(transformer_name))\n",
        "        \n",
        "        # save states of training\n",
        "        np.save('{}-{}-train_stats_Epoch{}.npy'.format(transformer_name, classifier_name, e+1), training_stats) \n",
        "\n",
        "    print('Training complete!')"
      ],
      "metadata": {
        "id": "61dZO_rsizPs"
      },
      "execution_count": 17,
      "outputs": []
    },
    {
      "cell_type": "markdown",
      "source": [
        "**Fine-tune BERT**"
      ],
      "metadata": {
        "id": "Ur4YhIiz1B0i"
      }
    },
    {
      "cell_type": "code",
      "source": [
        "transformer = Transformer('BERT')\n",
        "\n",
        "train_dataset, test_dataset = transformer.preprocess_data(X_train, X_test, y_train, y_test)\n",
        "train_val(train_dataset, test_dataset, transformer_name='BERT', transformer=transformer)"
      ],
      "metadata": {
        "id": "PApSKotb1For"
      },
      "execution_count": null,
      "outputs": []
    },
    {
      "cell_type": "markdown",
      "source": [
        "**Fine-tune GPT2**"
      ],
      "metadata": {
        "id": "KiqhDJZs1GD4"
      }
    },
    {
      "cell_type": "code",
      "source": [
        "transformer = Transformer('GPT2')\n",
        "\n",
        "train_dataset, test_dataset = transformer.preprocess_data(X_train, X_test, y_train, y_test)\n",
        "train_val(train_dataset, test_dataset, transformer_name='GPT2', transformer=transformer)"
      ],
      "metadata": {
        "id": "Xp3pA1_G1NlM"
      },
      "execution_count": null,
      "outputs": []
    },
    {
      "cell_type": "markdown",
      "source": [
        "**Fine-tune BIGBIRD**"
      ],
      "metadata": {
        "id": "Oalx5Ww41N7S"
      }
    },
    {
      "cell_type": "code",
      "source": [
        "transformer = Transformer('BIGBIRD')\n",
        "\n",
        "train_dataset, test_dataset = transformer.preprocess_data(X_train, X_test, y_train, y_test)\n",
        "train_val(train_dataset, test_dataset, transformer_name='BIGBIRD', transformer=transformer)"
      ],
      "metadata": {
        "id": "vjKJpHod1QmD"
      },
      "execution_count": null,
      "outputs": []
    },
    {
      "cell_type": "markdown",
      "source": [
        "**BERT + BiLSTM**"
      ],
      "metadata": {
        "id": "8PQKmQuT1Q7t"
      }
    },
    {
      "cell_type": "code",
      "source": [
        "lstm = LSTM_attention()\n",
        "transformer = Transformer('BERT')\n",
        "\n",
        "train_dataset, test_dataset = transformer.preprocess_data(X_train, X_test, y_train, y_test)\n",
        "train_val(train_dataset, test_dataset, transformer_name='BERT', transformer=transformer, classifier_name='BiLSTM', classifier=lstm)"
      ],
      "metadata": {
        "id": "p-gMHbyR1YSe"
      },
      "execution_count": null,
      "outputs": []
    },
    {
      "cell_type": "markdown",
      "source": [
        "**BERT + TextCNN**"
      ],
      "metadata": {
        "id": "P4PfEBBs1Yex"
      }
    },
    {
      "cell_type": "code",
      "source": [
        "textcnn = textCNN()\n",
        "transformer = Transformer('BERT')\n",
        "\n",
        "train_dataset, test_dataset = transformer.preprocess_data(X_train, X_test, y_train, y_test)\n",
        "train_val(train_dataset, test_dataset, transformer_name='BERT', transformer=transformer, classifier_name='TextCNN', classifier=textcnn)"
      ],
      "metadata": {
        "id": "XKmzAhzh2hoe"
      },
      "execution_count": null,
      "outputs": []
    }
  ]
}